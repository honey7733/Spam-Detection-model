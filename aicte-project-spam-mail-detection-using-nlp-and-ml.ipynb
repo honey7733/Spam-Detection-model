{
 "cells": [
  {
   "cell_type": "code",
   "execution_count": 1,
   "id": "19cc2c1f",
   "metadata": {
    "execution": {
     "iopub.execute_input": "2024-12-06T10:43:00.264870Z",
     "iopub.status.busy": "2024-12-06T10:43:00.264183Z",
     "iopub.status.idle": "2024-12-06T10:43:02.044508Z",
     "shell.execute_reply": "2024-12-06T10:43:02.043632Z"
    },
    "papermill": {
     "duration": 1.786945,
     "end_time": "2024-12-06T10:43:02.046565",
     "exception": false,
     "start_time": "2024-12-06T10:43:00.259620",
     "status": "completed"
    },
    "tags": []
   },
   "outputs": [],
   "source": [
    "import pandas as pd\n",
    "import pickle\n",
    "import numpy as np\n",
    "from sklearn.model_selection import train_test_split\n",
    "from sklearn.feature_extraction.text import TfidfVectorizer\n",
    "from sklearn.linear_model import LogisticRegression\n",
    "from sklearn.metrics import accuracy_score, classification_report, confusion_matrix"
   ]
  },
  {
   "cell_type": "code",
   "execution_count": 2,
   "id": "0ceaebbc",
   "metadata": {
    "execution": {
     "iopub.execute_input": "2024-12-06T10:43:02.053398Z",
     "iopub.status.busy": "2024-12-06T10:43:02.053041Z",
     "iopub.status.idle": "2024-12-06T10:43:02.193917Z",
     "shell.execute_reply": "2024-12-06T10:43:02.193289Z"
    },
    "papermill": {
     "duration": 0.146129,
     "end_time": "2024-12-06T10:43:02.195796",
     "exception": false,
     "start_time": "2024-12-06T10:43:02.049667",
     "status": "completed"
    },
    "tags": []
   },
   "outputs": [],
   "source": [
    "file_path = \"/kaggle/input/spam-detection/spam_ham_dataset.csv\"\n",
    "df = pd.read_csv(file_path)"
   ]
  },
  {
   "cell_type": "code",
   "execution_count": 3,
   "id": "f0acbd64",
   "metadata": {
    "execution": {
     "iopub.execute_input": "2024-12-06T10:43:02.202566Z",
     "iopub.status.busy": "2024-12-06T10:43:02.202043Z",
     "iopub.status.idle": "2024-12-06T10:43:02.212779Z",
     "shell.execute_reply": "2024-12-06T10:43:02.211763Z"
    },
    "papermill": {
     "duration": 0.015695,
     "end_time": "2024-12-06T10:43:02.214392",
     "exception": false,
     "start_time": "2024-12-06T10:43:02.198697",
     "status": "completed"
    },
    "tags": []
   },
   "outputs": [
    {
     "name": "stdout",
     "output_type": "stream",
     "text": [
      "Dataset loaded successfully. Here's a preview:\n",
      "   Unnamed: 0 label                                               text  \\\n",
      "0         605   ham  Subject: enron methanol ; meter # : 988291\\r\\n...   \n",
      "1        2349   ham  Subject: hpl nom for january 9 , 2001\\r\\n( see...   \n",
      "2        3624   ham  Subject: neon retreat\\r\\nho ho ho , we ' re ar...   \n",
      "3        4685  spam  Subject: photoshop , windows , office . cheap ...   \n",
      "4        2030   ham  Subject: re : indian springs\\r\\nthis deal is t...   \n",
      "\n",
      "   label_num  \n",
      "0          0  \n",
      "1          0  \n",
      "2          0  \n",
      "3          1  \n",
      "4          0  \n"
     ]
    }
   ],
   "source": [
    "print(\"Dataset loaded successfully. Here's a preview:\")\n",
    "print(df.head())"
   ]
  },
  {
   "cell_type": "code",
   "execution_count": 4,
   "id": "08203e3a",
   "metadata": {
    "execution": {
     "iopub.execute_input": "2024-12-06T10:43:02.220988Z",
     "iopub.status.busy": "2024-12-06T10:43:02.220769Z",
     "iopub.status.idle": "2024-12-06T10:43:02.224555Z",
     "shell.execute_reply": "2024-12-06T10:43:02.223804Z"
    },
    "papermill": {
     "duration": 0.008848,
     "end_time": "2024-12-06T10:43:02.226072",
     "exception": false,
     "start_time": "2024-12-06T10:43:02.217224",
     "status": "completed"
    },
    "tags": []
   },
   "outputs": [],
   "source": [
    "df.rename(columns={\"label\": \"Label\", \"text\": \"Text\"}, inplace=True)"
   ]
  },
  {
   "cell_type": "code",
   "execution_count": 5,
   "id": "f293995e",
   "metadata": {
    "execution": {
     "iopub.execute_input": "2024-12-06T10:43:02.232638Z",
     "iopub.status.busy": "2024-12-06T10:43:02.232028Z",
     "iopub.status.idle": "2024-12-06T10:43:02.238523Z",
     "shell.execute_reply": "2024-12-06T10:43:02.237925Z"
    },
    "papermill": {
     "duration": 0.011326,
     "end_time": "2024-12-06T10:43:02.240113",
     "exception": false,
     "start_time": "2024-12-06T10:43:02.228787",
     "status": "completed"
    },
    "tags": []
   },
   "outputs": [],
   "source": [
    "df.dropna(inplace=True)"
   ]
  },
  {
   "cell_type": "code",
   "execution_count": 6,
   "id": "0cd0479f",
   "metadata": {
    "execution": {
     "iopub.execute_input": "2024-12-06T10:43:02.247769Z",
     "iopub.status.busy": "2024-12-06T10:43:02.247522Z",
     "iopub.status.idle": "2024-12-06T10:43:02.253652Z",
     "shell.execute_reply": "2024-12-06T10:43:02.252925Z"
    },
    "papermill": {
     "duration": 0.011124,
     "end_time": "2024-12-06T10:43:02.255089",
     "exception": false,
     "start_time": "2024-12-06T10:43:02.243965",
     "status": "completed"
    },
    "tags": []
   },
   "outputs": [],
   "source": [
    "df['Label'] = df['Label'].apply(lambda x: 1 if x.lower() == 'spam' else 0)"
   ]
  },
  {
   "cell_type": "code",
   "execution_count": 7,
   "id": "d6e0af84",
   "metadata": {
    "execution": {
     "iopub.execute_input": "2024-12-06T10:43:02.261222Z",
     "iopub.status.busy": "2024-12-06T10:43:02.260984Z",
     "iopub.status.idle": "2024-12-06T10:43:02.264365Z",
     "shell.execute_reply": "2024-12-06T10:43:02.263749Z"
    },
    "papermill": {
     "duration": 0.008119,
     "end_time": "2024-12-06T10:43:02.265873",
     "exception": false,
     "start_time": "2024-12-06T10:43:02.257754",
     "status": "completed"
    },
    "tags": []
   },
   "outputs": [],
   "source": [
    "X = df['Text']\n",
    "y = df['Label']"
   ]
  },
  {
   "cell_type": "code",
   "execution_count": 8,
   "id": "848aee3a",
   "metadata": {
    "execution": {
     "iopub.execute_input": "2024-12-06T10:43:02.272131Z",
     "iopub.status.busy": "2024-12-06T10:43:02.271893Z",
     "iopub.status.idle": "2024-12-06T10:43:02.281653Z",
     "shell.execute_reply": "2024-12-06T10:43:02.281066Z"
    },
    "papermill": {
     "duration": 0.014548,
     "end_time": "2024-12-06T10:43:02.283115",
     "exception": false,
     "start_time": "2024-12-06T10:43:02.268567",
     "status": "completed"
    },
    "tags": []
   },
   "outputs": [],
   "source": [
    "X_train, X_test, y_train, y_test = train_test_split(X, y, test_size=0.2, random_state=42, stratify=y)"
   ]
  },
  {
   "cell_type": "code",
   "execution_count": 9,
   "id": "6dbc23ca",
   "metadata": {
    "execution": {
     "iopub.execute_input": "2024-12-06T10:43:02.289293Z",
     "iopub.status.busy": "2024-12-06T10:43:02.289050Z",
     "iopub.status.idle": "2024-12-06T10:43:02.874452Z",
     "shell.execute_reply": "2024-12-06T10:43:02.873770Z"
    },
    "papermill": {
     "duration": 0.590575,
     "end_time": "2024-12-06T10:43:02.876313",
     "exception": false,
     "start_time": "2024-12-06T10:43:02.285738",
     "status": "completed"
    },
    "tags": []
   },
   "outputs": [],
   "source": [
    "vectorizer = TfidfVectorizer(stop_words='english', max_features=5000)\n",
    "X_train_tfidf = vectorizer.fit_transform(X_train)\n",
    "X_test_tfidf = vectorizer.transform(X_test)"
   ]
  },
  {
   "cell_type": "code",
   "execution_count": 10,
   "id": "5d377fef",
   "metadata": {
    "execution": {
     "iopub.execute_input": "2024-12-06T10:43:02.883170Z",
     "iopub.status.busy": "2024-12-06T10:43:02.882901Z",
     "iopub.status.idle": "2024-12-06T10:43:02.927036Z",
     "shell.execute_reply": "2024-12-06T10:43:02.926469Z"
    },
    "papermill": {
     "duration": 0.049314,
     "end_time": "2024-12-06T10:43:02.928644",
     "exception": false,
     "start_time": "2024-12-06T10:43:02.879330",
     "status": "completed"
    },
    "tags": []
   },
   "outputs": [],
   "source": [
    "model = LogisticRegression()\n",
    "model.fit(X_train_tfidf, y_train)\n",
    "saved_model = pickle.dumps(model)"
   ]
  },
  {
   "cell_type": "code",
   "execution_count": 11,
   "id": "eb6fc88b",
   "metadata": {
    "execution": {
     "iopub.execute_input": "2024-12-06T10:43:02.935221Z",
     "iopub.status.busy": "2024-12-06T10:43:02.934962Z",
     "iopub.status.idle": "2024-12-06T10:43:02.939053Z",
     "shell.execute_reply": "2024-12-06T10:43:02.938421Z"
    },
    "papermill": {
     "duration": 0.009255,
     "end_time": "2024-12-06T10:43:02.940652",
     "exception": false,
     "start_time": "2024-12-06T10:43:02.931397",
     "status": "completed"
    },
    "tags": []
   },
   "outputs": [],
   "source": [
    "y_pred = model.predict(X_test_tfidf)"
   ]
  },
  {
   "cell_type": "code",
   "execution_count": 12,
   "id": "21ee9d0d",
   "metadata": {
    "execution": {
     "iopub.execute_input": "2024-12-06T10:43:02.947055Z",
     "iopub.status.busy": "2024-12-06T10:43:02.946812Z",
     "iopub.status.idle": "2024-12-06T10:43:02.959468Z",
     "shell.execute_reply": "2024-12-06T10:43:02.958559Z"
    },
    "papermill": {
     "duration": 0.017506,
     "end_time": "2024-12-06T10:43:02.961062",
     "exception": false,
     "start_time": "2024-12-06T10:43:02.943556",
     "status": "completed"
    },
    "tags": []
   },
   "outputs": [
    {
     "name": "stdout",
     "output_type": "stream",
     "text": [
      "Accuracy: 0.9874396135265701\n",
      "\n",
      "Classification Report:\n",
      "               precision    recall  f1-score   support\n",
      "\n",
      "           0       1.00      0.99      0.99       735\n",
      "           1       0.97      0.99      0.98       300\n",
      "\n",
      "    accuracy                           0.99      1035\n",
      "   macro avg       0.98      0.99      0.98      1035\n",
      "weighted avg       0.99      0.99      0.99      1035\n",
      "\n",
      "\n",
      "Confusion Matrix:\n",
      " [[725  10]\n",
      " [  3 297]]\n"
     ]
    }
   ],
   "source": [
    "print(\"Accuracy:\", accuracy_score(y_test, y_pred))\n",
    "print(\"\\nClassification Report:\\n\", classification_report(y_test, y_pred))\n",
    "print(\"\\nConfusion Matrix:\\n\", confusion_matrix(y_test, y_pred))"
   ]
  },
  {
   "cell_type": "code",
   "execution_count": 13,
   "id": "bf3eec56",
   "metadata": {
    "execution": {
     "iopub.execute_input": "2024-12-06T10:43:02.967590Z",
     "iopub.status.busy": "2024-12-06T10:43:02.967333Z",
     "iopub.status.idle": "2024-12-06T10:43:02.973229Z",
     "shell.execute_reply": "2024-12-06T10:43:02.972281Z"
    },
    "papermill": {
     "duration": 0.011078,
     "end_time": "2024-12-06T10:43:02.974838",
     "exception": false,
     "start_time": "2024-12-06T10:43:02.963760",
     "status": "completed"
    },
    "tags": []
   },
   "outputs": [
    {
     "name": "stdout",
     "output_type": "stream",
     "text": [
      "\n",
      "Example Prediction:  Spam\n"
     ]
    }
   ],
   "source": [
    "example = [\"Congratulations! You've won a free trip to Bahamas. Click here to claim.\"]\n",
    "example_tfidf = vectorizer.transform(example)\n",
    "prediction = model.predict(example_tfidf)\n",
    "print(\"\\nExample Prediction: \", \"Spam\" if prediction[0] == 1 else \"Ham\")"
   ]
  },
  {
   "cell_type": "code",
   "execution_count": 14,
   "id": "3d6ade5c",
   "metadata": {
    "execution": {
     "iopub.execute_input": "2024-12-06T10:43:02.981288Z",
     "iopub.status.busy": "2024-12-06T10:43:02.981051Z",
     "iopub.status.idle": "2024-12-06T10:43:03.179676Z",
     "shell.execute_reply": "2024-12-06T10:43:03.178786Z"
    },
    "papermill": {
     "duration": 0.203666,
     "end_time": "2024-12-06T10:43:03.181347",
     "exception": false,
     "start_time": "2024-12-06T10:43:02.977681",
     "status": "completed"
    },
    "tags": []
   },
   "outputs": [
    {
     "name": "stdout",
     "output_type": "stream",
     "text": [
      "Model and vectorizer saved successfully!\n"
     ]
    }
   ],
   "source": [
    "import joblib\n",
    "\n",
    "# Save the trained Logistic Regression model\n",
    "joblib.dump(model, \"spam_detection_model.pkl\")\n",
    "\n",
    "# Save the TF-IDF vectorizer\n",
    "joblib.dump(vectorizer, \"tfidf_vectorizer.pkl\")\n",
    "\n",
    "print(\"Model and vectorizer saved successfully!\")\n"
   ]
  },
  {
   "cell_type": "code",
   "execution_count": null,
   "id": "00c832ea",
   "metadata": {
    "papermill": {
     "duration": 0.002844,
     "end_time": "2024-12-06T10:43:03.187205",
     "exception": false,
     "start_time": "2024-12-06T10:43:03.184361",
     "status": "completed"
    },
    "tags": []
   },
   "outputs": [],
   "source": []
  }
 ],
 "metadata": {
  "kaggle": {
   "accelerator": "nvidiaTeslaT4",
   "dataSources": [
    {
     "datasetId": 6229726,
     "sourceId": 10100504,
     "sourceType": "datasetVersion"
    }
   ],
   "dockerImageVersionId": 30805,
   "isGpuEnabled": true,
   "isInternetEnabled": true,
   "language": "python",
   "sourceType": "notebook"
  },
  "kernelspec": {
   "display_name": "Python 3",
   "language": "python",
   "name": "python3"
  },
  "language_info": {
   "codemirror_mode": {
    "name": "ipython",
    "version": 3
   },
   "file_extension": ".py",
   "mimetype": "text/x-python",
   "name": "python",
   "nbconvert_exporter": "python",
   "pygments_lexer": "ipython3",
   "version": "3.10.14"
  },
  "papermill": {
   "default_parameters": {},
   "duration": 5.703506,
   "end_time": "2024-12-06T10:43:03.607123",
   "environment_variables": {},
   "exception": null,
   "input_path": "__notebook__.ipynb",
   "output_path": "__notebook__.ipynb",
   "parameters": {},
   "start_time": "2024-12-06T10:42:57.903617",
   "version": "2.6.0"
  }
 },
 "nbformat": 4,
 "nbformat_minor": 5
}
